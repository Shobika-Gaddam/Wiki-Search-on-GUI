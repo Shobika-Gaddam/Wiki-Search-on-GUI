{
 "cells": [
  {
   "cell_type": "code",
   "execution_count": 2,
   "id": "459be9fa",
   "metadata": {},
   "outputs": [
    {
     "name": "stdout",
     "output_type": "stream",
     "text": [
      "Requirement already satisfied: wikipedia in c:\\users\\shobi\\anaconda3\\lib\\site-packages (1.4.0)\n",
      "Requirement already satisfied: beautifulsoup4 in c:\\users\\shobi\\anaconda3\\lib\\site-packages (from wikipedia) (4.9.3)\n",
      "Requirement already satisfied: requests<3.0.0,>=2.0.0 in c:\\users\\shobi\\anaconda3\\lib\\site-packages (from wikipedia) (2.25.1)\n",
      "Requirement already satisfied: chardet<5,>=3.0.2 in c:\\users\\shobi\\anaconda3\\lib\\site-packages (from requests<3.0.0,>=2.0.0->wikipedia) (4.0.0)\n",
      "Requirement already satisfied: urllib3<1.27,>=1.21.1 in c:\\users\\shobi\\anaconda3\\lib\\site-packages (from requests<3.0.0,>=2.0.0->wikipedia) (1.26.4)\n",
      "Requirement already satisfied: idna<3,>=2.5 in c:\\users\\shobi\\anaconda3\\lib\\site-packages (from requests<3.0.0,>=2.0.0->wikipedia) (2.10)\n",
      "Requirement already satisfied: certifi>=2017.4.17 in c:\\users\\shobi\\anaconda3\\lib\\site-packages (from requests<3.0.0,>=2.0.0->wikipedia) (2020.12.5)\n",
      "Requirement already satisfied: soupsieve>1.2 in c:\\users\\shobi\\anaconda3\\lib\\site-packages (from beautifulsoup4->wikipedia) (2.2.1)\n",
      "Note: you may need to restart the kernel to use updated packages.\n"
     ]
    }
   ],
   "source": [
    "pip install wikipedia"
   ]
  },
  {
   "cell_type": "code",
   "execution_count": 13,
   "id": "5fe910ab",
   "metadata": {},
   "outputs": [],
   "source": [
    "from tkinter import *\n",
    "from tkinter.filedialog import askopenfilename, asksaveasfilename\n",
    "from wikipedia import summary as w\n",
    "import os"
   ]
  },
  {
   "cell_type": "code",
   "execution_count": 14,
   "id": "c1ccaaba",
   "metadata": {},
   "outputs": [],
   "source": [
    "window = Tk()\n",
    "window.title(\"Wiki Search\")\n",
    "font_format=(\"Times New Roman\",16,\"bold\")\n",
    "\n",
    "def search():\n",
    "        a=summary(entry.get())\n",
    "        with open(\"testfiles.txt\",\"w\") as file:\n",
    "            file.write(a)\n",
    "        \n",
    "def save_file():\n",
    "    try:\n",
    "        filepath = asksaveasfilename(\n",
    "            defaultextension=\"txt\",\n",
    "            filetypes=[(\"Text Files\", \"*.txt\"), (\"All Files\", \"*.*\")])\n",
    "        if not filepath:\n",
    "            return\n",
    "        with open() as output_file:\n",
    "            text = txt_edit.get(\"1.0\", tk.END)\n",
    "            output_file.write(text)\n",
    "        window.title(f\"Wiki Search - {filepath}\")\n",
    "    except:\n",
    "        AttributeError=(\"Invalid\")\n",
    "        \n",
    "def open_file():\n",
    "    filepath = askopenfilename(\n",
    "        filetypes=[(\"Text Files\", \"*.txt\"), (\"All Files\", \"*.*\")])\n",
    "    if not filepath:\n",
    "        return\n",
    "    txt_edit.delete(\"1.0\", tk.END)\n",
    "    with open() as input_file:\n",
    "        text = input_file.read()\n",
    "        txt_edit.insert(tk.END, text)\n",
    "    window.title(f\"Wiki Search - {filepath}\")\n",
    "    \n",
    "label1=Label(window,text=\"Enter the Keyword\",font=font_format)\n",
    "button_save=Button(window,text=\"Search and Save\",padx=10,pady=10,command=save_file,font=font_format)\n",
    "button_open=Button(window,text=\"Open\",padx=10,pady=10,command=open_file,font=font_format)\n",
    "n1=Entry(window)\n",
    "\n",
    "label1.grid(row=0,column=0)\n",
    "n1.grid(row=0,column=1)\n",
    "button_save.grid(row=2,column=0)\n",
    "button_open.grid(row=2,column=3)\n",
    "\n",
    "window.mainloop()"
   ]
  }
 ],
 "metadata": {
  "kernelspec": {
   "display_name": "Python 3",
   "language": "python",
   "name": "python3"
  },
  "language_info": {
   "codemirror_mode": {
    "name": "ipython",
    "version": 3
   },
   "file_extension": ".py",
   "mimetype": "text/x-python",
   "name": "python",
   "nbconvert_exporter": "python",
   "pygments_lexer": "ipython3",
   "version": "3.8.8"
  }
 },
 "nbformat": 4,
 "nbformat_minor": 5
}
